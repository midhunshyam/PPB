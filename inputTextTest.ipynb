{
 "cells": [
  {
   "cell_type": "code",
   "execution_count": 2,
   "id": "bdbcb432-9e1d-4f32-bf68-6f26a42426a8",
   "metadata": {},
   "outputs": [
    {
     "name": "stderr",
     "output_type": "stream",
     "text": [
      "Some weights of BertForSequenceClassification were not initialized from the model checkpoint at emilyalsentzer/Bio_ClinicalBERT and are newly initialized: ['classifier.bias', 'classifier.weight']\n",
      "You should probably TRAIN this model on a down-stream task to be able to use it for predictions and inference.\n"
     ]
    },
    {
     "data": {
      "text/plain": [
       "BertForSequenceClassification(\n",
       "  (bert): BertModel(\n",
       "    (embeddings): BertEmbeddings(\n",
       "      (word_embeddings): Embedding(28996, 768, padding_idx=0)\n",
       "      (position_embeddings): Embedding(512, 768)\n",
       "      (token_type_embeddings): Embedding(2, 768)\n",
       "      (LayerNorm): LayerNorm((768,), eps=1e-12, elementwise_affine=True)\n",
       "      (dropout): Dropout(p=0.1, inplace=False)\n",
       "    )\n",
       "    (encoder): BertEncoder(\n",
       "      (layer): ModuleList(\n",
       "        (0-11): 12 x BertLayer(\n",
       "          (attention): BertAttention(\n",
       "            (self): BertSdpaSelfAttention(\n",
       "              (query): Linear(in_features=768, out_features=768, bias=True)\n",
       "              (key): Linear(in_features=768, out_features=768, bias=True)\n",
       "              (value): Linear(in_features=768, out_features=768, bias=True)\n",
       "              (dropout): Dropout(p=0.1, inplace=False)\n",
       "            )\n",
       "            (output): BertSelfOutput(\n",
       "              (dense): Linear(in_features=768, out_features=768, bias=True)\n",
       "              (LayerNorm): LayerNorm((768,), eps=1e-12, elementwise_affine=True)\n",
       "              (dropout): Dropout(p=0.1, inplace=False)\n",
       "            )\n",
       "          )\n",
       "          (intermediate): BertIntermediate(\n",
       "            (dense): Linear(in_features=768, out_features=3072, bias=True)\n",
       "            (intermediate_act_fn): GELUActivation()\n",
       "          )\n",
       "          (output): BertOutput(\n",
       "            (dense): Linear(in_features=3072, out_features=768, bias=True)\n",
       "            (LayerNorm): LayerNorm((768,), eps=1e-12, elementwise_affine=True)\n",
       "            (dropout): Dropout(p=0.1, inplace=False)\n",
       "          )\n",
       "        )\n",
       "      )\n",
       "    )\n",
       "    (pooler): BertPooler(\n",
       "      (dense): Linear(in_features=768, out_features=768, bias=True)\n",
       "      (activation): Tanh()\n",
       "    )\n",
       "  )\n",
       "  (dropout): Dropout(p=0.1, inplace=False)\n",
       "  (classifier): Linear(in_features=768, out_features=2, bias=True)\n",
       ")"
      ]
     },
     "execution_count": 2,
     "metadata": {},
     "output_type": "execute_result"
    }
   ],
   "source": [
    "import torch\n",
    "from transformers import AutoTokenizer, AutoModelForSequenceClassification\n",
    "import os\n",
    "\n",
    "# Load the tokenizer\n",
    "tokenizer = AutoTokenizer.from_pretrained(\"emilyalsentzer/Bio_ClinicalBERT\", clean_up_tokenization_spaces=True)\n",
    "\n",
    "# Set the device to GPU if available, otherwise CPU\n",
    "device = torch.device(\"cuda\" if torch.cuda.is_available() else \"cpu\")\n",
    "\n",
    "# Instantiate the model architecture\n",
    "model = AutoModelForSequenceClassification.from_pretrained(\"emilyalsentzer/Bio_ClinicalBERT\", num_labels=2)\n",
    "\n",
    "# Load the fine-tuned model's state dictionary (the saved weights) safely\n",
    "fine_tuned_model_path = os.path.expanduser(\"~/BioClinicalBERT/fine_tuned_clinical_bert1k_2002.pt\")  # Update path as needed\n",
    "state_dict = torch.load(fine_tuned_model_path, map_location=device, weights_only = True)\n",
    "\n",
    "# Load the state dictionary into the model\n",
    "model.load_state_dict(state_dict)\n",
    "\n",
    "# Move the model to the correct device\n",
    "model.to(device)\n",
    "\n",
    "# Set model to evaluation mode\n",
    "model.eval()"
   ]
  },
  {
   "cell_type": "code",
   "execution_count": 5,
   "id": "85cc69ea-a033-4488-88f5-4c795afedfab",
   "metadata": {},
   "outputs": [
    {
     "name": "stdout",
     "output_type": "stream",
     "text": [
      "Predicted labels: [0 1 0 1 0 0 0 0 1]\n"
     ]
    }
   ],
   "source": [
    "def predict_label_using_classifier(text_list):\n",
    "    # Tokenize the input texts (batch of texts)\n",
    "    inputs = tokenizer(text_list, padding=True, truncation=True, return_tensors=\"pt\", max_length=512)\n",
    "    \n",
    "    # Move tensors to the correct device\n",
    "    inputs = {key: value.to(device) for key, value in inputs.items()}\n",
    "    \n",
    "    # Get the BERT embeddings (without applying the classification head)\n",
    "    with torch.no_grad():\n",
    "        outputs = model.bert(**inputs)\n",
    "        last_hidden_state = outputs.last_hidden_state\n",
    "    \n",
    "    # Apply the classification head manually\n",
    "    logits = model.classifier(last_hidden_state[:, 0, :])  # Use CLS token representation for classification\n",
    "\n",
    "    # Get the predicted classes for the batch\n",
    "    predicted_classes = torch.argmax(logits, dim=1).cpu().numpy()  # Convert to numpy array for easier handling\n",
    "    \n",
    "    return predicted_classes\n",
    "\n",
    "# Example inputs with abbreviations, typos, and different classes\n",
    "text_input = [\n",
    "    \"Patient has a history of diabetes and hypertension.\", \n",
    "    \"MVA\",  # Motor Vehicle Accident\n",
    "    \"Pt involved in MVC\",  # Motor Vehicle Collision\n",
    "    \"Patient involved in a motor accident\", \n",
    "    \"Pt has Hx of DM & HTN\",  # Abbreviations for patient (Pt), history (Hx), diabetes mellitus (DM), and hypertension (HTN)\n",
    "    \"Mtr vehcl collision\",  # Typo in motor vehicle collision\n",
    "    \"Pattient hs history of htpertension\",\n",
    "    \"Pt hs history of vehical accident\",\n",
    "    \"Pt involved in motor cycle \"\n",
    "]\n",
    "\n",
    "# Predict labels for all text inputs\n",
    "predicted_labels = predict_label_using_classifier(text_input)\n",
    "print(f\"Predicted labels: {predicted_labels}\")"
   ]
  }
 ],
 "metadata": {
  "kernelspec": {
   "display_name": "BioClinicalBERT",
   "language": "python",
   "name": "bioclinicalbert"
  },
  "language_info": {
   "codemirror_mode": {
    "name": "ipython",
    "version": 3
   },
   "file_extension": ".py",
   "mimetype": "text/x-python",
   "name": "python",
   "nbconvert_exporter": "python",
   "pygments_lexer": "ipython3",
   "version": "3.10.4"
  }
 },
 "nbformat": 4,
 "nbformat_minor": 5
}
