{
 "cells": [
  {
   "cell_type": "code",
   "execution_count": 13,
   "id": "2c1d5272-1526-4fe4-b885-aaede6dbbd39",
   "metadata": {},
   "outputs": [],
   "source": [
    "import pandas as pd\n",
    "import nltk\n",
    "import re\n",
    "import numpy as np\n",
    "from nltk.tokenize import word_tokenize\n",
    "from nltk.corpus import stopwords\n",
    "from nltk.stem import WordNetLemmatizer\n",
    "from sklearn.feature_extraction.text import CountVectorizer\n",
    "from sklearn.decomposition import LatentDirichletAllocation\n"
   ]
  },
  {
   "cell_type": "code",
   "execution_count": 14,
   "id": "74c508c0-c68f-41db-9dac-b3ce60484855",
   "metadata": {},
   "outputs": [],
   "source": [
    "# Load datasets\n",
    "notes = pd.read_csv(\"NOTEEVENTS.csv\", low_memory=False)  # Load clinical notes\n",
    "diag = pd.read_csv(\"DIAGNOSES_ICD.csv\", low_memory=False)  # Load diagnosis codes\n",
    "iDiag = pd.read_csv(\"D_ICD_DIAGNOSES.csv\", low_memory=False)  # Load ICD descriptions\n",
    "\n",
    "# Combine the SHORT_TITLE and LONG_TITLE columns\n",
    "iDiag['CombinedTitles'] = iDiag[['SHORT_TITLE', 'LONG_TITLE']].fillna('').agg(' '.join, axis=1)  # Merge title columns"
   ]
  },
  {
   "cell_type": "code",
   "execution_count": 15,
   "id": "7a0559c4-7ec7-4527-b5af-6d5a39b30b1f",
   "metadata": {},
   "outputs": [],
   "source": [
    "vehicleRegex = (\n",
    "    r'\\b(?:mva|mba|vehicle|bus|pedestrian|passenger|ute|ped|bike|dirtbike|motorbike|pushbike|scooter|truck|'\n",
    "    r'bicycle|motorcycle|driver|driving|rtc|rta|\\d*km[a-zA-Z/]*|skateboard|surfing|surf|horse|collision|'\n",
    "    r'crossing|buggy|ebike|jetski|vs car|car vs|car accident|moving car|traffic light|traffic lights|'\n",
    "    r'hit by car|hit by a car|car hit|airbag|airbags|T boned)\\b'\n",
    ")\n",
    "\n",
    "iDiagFiltered = iDiag[iDiag['CombinedTitles'].str.contains(vehicleRegex, case=False, na=False)]  # Filter titles"
   ]
  },
  {
   "cell_type": "code",
   "execution_count": 16,
   "id": "e3953b3d-a157-4ba9-aa93-1d0989e86eca",
   "metadata": {},
   "outputs": [],
   "source": [
    "# Text preprocessing function\n",
    "def preprocessText(text):\n",
    "    text = text.lower()  # Convert to lowercase\n",
    "    text = re.sub(r'[^a-z\\s]', '', text)  # Remove non-letters\n",
    "    tokens = word_tokenize(text)  # Tokenize text\n",
    "    stopWords = set(stopwords.words('english'))  # Load stopwords\n",
    "    tokens = [word for word in tokens if word not in stopWords]  # Remove stopwords\n",
    "    lemmatizer = WordNetLemmatizer()  # Initialize lemmatizer\n",
    "    tokens = [lemmatizer.lemmatize(word) for word in tokens]  # Lemmatize tokens\n",
    "    return ' '.join(tokens)  # Return processed text\n",
    "\n",
    "iDiagFiltered = iDiagFiltered.copy()  # Make a copy to avoid modifying the original DataFrame\n",
    "iDiagFiltered['ProcessedText'] = iDiagFiltered['CombinedTitles'].apply(preprocessText)  # Preprocess titles"
   ]
  },
  {
   "cell_type": "code",
   "execution_count": 17,
   "id": "4b3a69a3-a7fc-47e2-bbf7-f8808097d221",
   "metadata": {},
   "outputs": [
    {
     "name": "stdout",
     "output_type": "stream",
     "text": [
      "\n",
      "Topic 0:\n",
      "vehicle rider animal accident injuring animaldrawn occupant veh cycle pedal mvoth ped drawn anim person motor cyc accanim cyclist car streetcar unspecified specified nec no accpers accocc st vehpers accped objrider objped stndng crashing crash injury objdriv objpsgr suicide selfinflicted cycl psg involving rid collmcyc collpers collision driver collanim mvanim nosanim ridden accst pedestrian accpedest cont traff collst collmotcycl collped noncollision coll collpedest traffic nature motorcycle boarding alighting nontraffic colldriver collpasngr mv ntraf stnd stationary highway mov moving mvtrain oth passenger object loss stn due another train motordriven reentrant snow motorcyclist without undetermined accidentally inflicted purposely whether acc control offroad poisonexhaust poisoning exhaust gas nosped hit trainped transport mvpers fire explosion burning necped boardalightpsgr antecedent derailment boardalightdriv accidental accmcycl mvmcyc fall derailpers mvpedest mvmocycl necmocycl mvped psgr necpedest nospedest necst accdriv accpsgr necpers boardalightpers nosst objst nosmcycl ntraff pedespers objpers necpassenger collis nospers nosdriver nospasngr stock rolling objpasngr objpedest nospedestrian railway shoving pushing rr level objmocycl nospassenger employee operation col nosperson war road rd objper objcyc improvised device explosive vehicleborne brdalitpers activity ied surf surface caries dental\n",
      "\n",
      "--------------------------------------------------------------------------------\n",
      "\n",
      "\n",
      "Topic 1:\n",
      "vehicle motor accident injuring traffic collision mv involving motorcycle unspecified acc pedestrian passenger nature person coll reentrant loss highway noncollision control without driver train cyclist cycl occupant pedal traff nec no specified streetcar car motorcyclist alighting boarding due another mvtrain nontraffic psgr ntraff derailment antecedent hit collpers rid nospers ridden collis collpasngr colldriver collpedest collped collst explosion fire burning collanim nosped nosdriver nospasngr objpers pedespers nosst nosmcycl boardalightpers necst necpers nospedest necpedest mvpers necmocycl collmotcycl cont derailpers accpers accst nosanim trainped boardalightdriv boardalightpsgr collmcyc accdriv accpsgr necped mvped mvpedest mvmocycl accmcycl objped mvanim animal rider animaldrawn mvmcyc psg objdriv objst mvoth objpasngr veh objpedest objmocycl accped rr stndng accpedest railway oth ntraf rolling stock cyc nospedestrian employee fall accanim drawn nospassenger stationary offroad injury mov moving operation war accidental object poisonexhaust exhaust poisoning gas transport objpsgr suicide selfinflicted necpassenger pushing shoving ped level crash crashing nosperson objrider col stnd stn objcyc road objper activity rd brdalitpers explosive improvised vehicleborne device ied vehpers motordriven cycle snow st anim accocc surface surf caries dental undetermined purposely accidentally inflicted whether\n",
      "\n",
      "--------------------------------------------------------------------------------\n",
      "\n",
      "\n",
      "Topic 2:\n",
      "gas motor involving dental activity exhaust poisoning vehicle surface surf caries poisonexhaust whether undetermined accidentally inflicted purposely accidental boarding selfinflicted suicide crash crashing injury acc veh nosped hit trainped transport train rid mvpers pedestrian ridden fire burning explosion psg objped pedal cyclist unspecified specified nec boardalightpsgr motorcyclist necped no accident injuring streetcar car person occupant antecedent derailment boardalightdriv objdriv accst cycl accpers accmcycl passenger nontraffic fall mvmcyc objpsgr mvanim derailpers nature motorcycle mvmocycl mvpedest collision necmocycl driver alighting psgr coll nosanim collmcyc collmotcycl mvped necpedest collanim collpedest due nospedest accdriv accpsgr traff without collst noncollision boardalightpers collped necpers necst accpedest mv collpers nosmcycl stndng mvtrain nosst pedespers objpers ntraff traffic collis objst colldriver collpasngr nospasngr nosdriver nospers highway necpassenger accped cont oth rolling stock objpasngr another objpedest reentrant mvoth loss control nospedestrian shoving pushing ped railway rr level cyc objmocycl nospassenger employee ntraf animal operation col nosperson war objrider rider stnd animaldrawn stationary object stn mov moving road explosive improvised vehicleborne device objcyc objper rd offroad drawn brdalitpers ied accanim motordriven snow st cycle vehpers anim accocc\n",
      "\n",
      "--------------------------------------------------------------------------------\n",
      "\n",
      "\n",
      "Topic 3:\n",
      "vehicle accident injuring nontraffic motor snow offroad involving veh oth ntraf motordriven boarding alighting person motorcycle war pedestrian road occupant passenger accpers streetcar car ied accpedest unspecified no due nec specified motorcyclist pedal cycl injury cyclist rd operation rid accst brdalitpers device explosive improvised vehicleborne driver accmcycl mvmocycl mvpedest mvped transport psgr accped mvanim accpsgr accdriv mvpers boardalightpsgr boardalightdriv psg animal rider mvmcyc ridden necmocycl animaldrawn mv collision accanim nature cycle acc anim drawn nosped hit trainped train necped fire explosion burning objped objdriv antecedent derailment objpsgr derailpers fall necpedest collmotcycl coll necpers collmcyc accidental nosanim collanim collpedest necst ntraff boardalightpers traff nospedest noncollision collst without collped stndng collpers nosmcycl mvtrain nosst pedespers objpers traffic objst collis colldriver collpasngr nospers nospasngr nosdriver highway cont necpassenger objpasngr suicide selfinflicted stock rolling another objpedest mvoth reentrant loss control nospedestrian railway shoving pushing ped rr objmocycl cyc level nospassenger employee crash crashing objrider col nosperson stnd stationary object mov moving stn activity objcyc objper vehpers st accocc surface caries surf dental poisonexhaust whether undetermined purposely inflicted accidentally exhaust poisoning gas\n",
      "\n",
      "--------------------------------------------------------------------------------\n",
      "\n",
      "\n",
      "Topic 4:\n",
      "injuring accident railway involving collision oth coll rr object motor nontraffic vehicle fall passenger person cyclist moving mov stationary stock rolling specified acc pedestrian unspecified pedal motorcycle nec objper psg no stnd objpedest occupant level employee stn objmocycl objst motorcyclist car streetcar objcyc nosperson col pushing shoving necpassenger nospassenger nospedestrian objpasngr mvmcyc mvpers nosped necped transport accidental objpsgr objdriv hit trainped stndng objped antecedent derailment burning fire explosion train derailpers cyc objrider driver nature without cycl highway offroad animaldrawn animal rider mv control due loss traffic boarding alighting ntraf rid ridden boardalightpsgr accpers accst boardalightdriv accmcycl mvanim mvpedest mvmocycl collmcyc necmocycl psgr necpedest nosanim mvped collmotcycl collanim collpedest nospedest necpers accpsgr accdriv traff collst collped necst accpedest collpers pedespers noncollision boardalightpers objpers ntraff nosmcycl mvtrain nosst collis nospers collpasngr injury nospasngr veh colldriver nosdriver accped cont another reentrant suicide selfinflicted mvoth ped crash crashing operation war activity road rd drawn vehicleborne improvised explosive device brdalitpers accanim ied vehpers cycle motordriven snow st anim accocc surf surface caries dental poisonexhaust purposely inflicted accidentally undetermined whether exhaust poisoning gas\n",
      "\n",
      "--------------------------------------------------------------------------------\n",
      "\n"
     ]
    }
   ],
   "source": [
    "# Create a document-term matrix\n",
    "vectorizer = CountVectorizer(max_df=0.95, min_df=2, max_features=1000)  # Initialize vectorizer\n",
    "dtm = vectorizer.fit_transform(iDiagFiltered['ProcessedText'])  # Create document-term matrix\n",
    "\n",
    "# Fit LDA model\n",
    "lda = LatentDirichletAllocation(n_components=5, random_state=42)  # Initialize LDA\n",
    "lda.fit(dtm)  # Fit LDA model\n",
    "\n",
    "# Display the top words per topic\n",
    "def displayTopics(model, featureNames, noTopWords):\n",
    "    topicWords = {}\n",
    "    for topicIdx, topic in enumerate(model.components_):  # Iterate topics\n",
    "        topWords = \" \".join([featureNames[i] for i in topic.argsort()[:-noTopWords - 1:-1]])  # Get top words\n",
    "        topicWords[topicIdx] = topWords  # Store topic words\n",
    "        print(f\"\\nTopic {topicIdx}:\")\n",
    "        print(topWords)  # Print topic words\n",
    "        print(\"\\n\" + \"-\"*80 + \"\\n\")\n",
    "    return topicWords\n",
    "\n",
    "noTopWords = 1000\n",
    "topics = displayTopics(lda, vectorizer.get_feature_names_out(), noTopWords)  # Display topic words"
   ]
  },
  {
   "cell_type": "code",
   "execution_count": 18,
   "id": "e31fc869-e35d-4644-bf5e-4a411779ee91",
   "metadata": {},
   "outputs": [
    {
     "name": "stdout",
     "output_type": "stream",
     "text": [
      "\n",
      "Topic 0:\n",
      "vehicle motor traffic accident injuring mv collision involving motorcycle unspecified passenger nature acc reentrant noncollision alighting boarding pedestrian nontraffic occupant coll driver traff streetcar car ntraf motorcyclist another mvoth veh psgr ntraff no person collpers colldriver collpasngr collst collpedest collis collanim nosdriver nospasngr collmcyc boardalightdriv boardalightpsgr nosst nosmcycl necst collmotcycl nospedest necmocycl necpedest boardalightpers psg accmcycl objpasngr injury train collped nospers nospassenger mvtrain necpers highway brdalitpers pedespers nec objpers specified objpedest nosanim accpers necped cycl objst rid nosped rider oth accdriv objmocycl cyc accped cyclist accpsgr animaldrawn pedal animal accanim accst objped nospedestrian cont offroad motordriven snow drawn without loss control due rr railway mvpers transport necpassenger st ridden accpedest ped accocc object objper anim fall hit stn stnd vehpers road trainped rd cycle operation objpsgr objcyc war stndng objdriv stationary stock rolling moving mov mvped burning explosion fire employee vehicleborne improvised explosive device mvanim objrider nosperson ied col mvpedest mvmocycl antecedent derailment derailpers mvmcyc pushing shoving level\n",
      "\n",
      "--------------------------------------------------------------------------------\n",
      "\n",
      "\n",
      "Topic 1:\n",
      "loss offroad highway control fall motor due collision vehicle injuring without accident traffic person mvpers passenger level motorcycle shoving pushing mvmcyc cont mvmocycl mvpedest accpsgr accdriv mvanim mvped unspecified psg pedestrian motorcyclist accst no driver mv specified nec occupant car streetcar oth cycl objpasngr nontraffic involving objpers rider trainped objpedest cyclist pedal injury operation train war objmocycl animaldrawn objst animal coll railway rid objped psgr transport necpassenger nospers veh nature collanim accpers acc ridden accmcycl mvtrain accpedest st ped necpers brdalitpers ntraf collpers collis collpedest boarding alighting cyc ntraff traff boardalightpers pedespers necpedest noncollision necmocycl nospedest mvoth collped accanim accped objper collmotcycl object accocc necped collst nosmcycl necst hit anim nospassenger nosst boardalightpsgr collmcyc boardalightdriv collpasngr nosanim colldriver nospasngr vehicleborne explosive improvised device nosdriver vehpers stn drawn another stnd ied reentrant road nosped nospedestrian cycle rd motordriven snow stock rolling objcyc stationary employee objpsgr fire burning explosion stndng mov moving rr objdriv antecedent derailment derailpers col nosperson objrider\n",
      "\n",
      "--------------------------------------------------------------------------------\n",
      "\n",
      "\n",
      "Topic 2:\n",
      "vehicle accident injuring involving nontraffic motor oth rider animal occupant collision coll animaldrawn person snow object veh nec specified moving mov stationary motordriven motorcycle no unspecified car streetcar rid drawn pedestrian accpers passenger road anim stnd motorcyclist nospers driver objper rd accst objmocycl objst accanim stn accpedest psg objrider objdriv stndng objpsgr objcyc vehpers objpedest nosanim brdalitpers necpers transport st cyc ntraf collanim nature boarding alighting mv objped ntraff ridden accmcycl mvanim collis accocc necpassenger offroad accped traff highway mvpers traffic mvoth collpers objpasngr boardalightpers acc ped mvtrain noncollision cycle mvpedest mvmocycl psgr mvped train pedal mvmcyc another reentrant accdriv cyclist accpsgr cont cycl without loss due control injury objpers pedespers collpedest necpedest necmocycl necped collped necst collst nospedest collmotcycl nosst nosmcycl boardalightdriv boardalightpsgr fall collmcyc collpasngr nospassenger colldriver hit nosdriver nospasngr trainped nosped nospedestrian operation war col railway stock rolling employee rr burning fire explosion nosperson improvised device explosive vehicleborne ied derailpers antecedent derailment pushing shoving level\n",
      "\n",
      "--------------------------------------------------------------------------------\n",
      "\n",
      "\n",
      "Topic 3:\n",
      "injuring accident railway involving pedal cyclist collision rr cycl acc coll train person cycle pedestrian specified mvtrain stock rolling passenger unspecified nec ped object oth without antecedent derailment hit war no ied nosped ridden cyc injury explosion fire burning employee operation accped objped collped due derailpers nosperson col improvised vehicleborne explosive device objper nospedestrian accpers trainped necped necpassenger accocc objpedest pedespers objpers nospassenger accpedest highway objpasngr st stn streetcar car transport motor vehicle occupant mvped traffic collpers nature animal accanim mv collanim fall collpedest nontraffic veh anim collst collpasngr stnd accst colldriver ntraff mvoth rider stationary traff noncollision motorcyclist another reentrant ntraf boarding alighting motordriven snow psgr moving mov animaldrawn rid offroad motorcycle driver control loss nospers psg accmcycl necpers brdalitpers boardalightpers collis necpedest nospedest necmocycl objmocycl collmotcycl nosmcycl objst necst nosst vehpers boardalightpsgr nosanim boardalightdriv drawn road nospasngr collmcyc nosdriver rd objcyc objpsgr stndng objdriv objrider mvanim accdriv mvpedest mvpers accpsgr mvmocycl shoving pushing level mvmcyc cont\n",
      "\n",
      "--------------------------------------------------------------------------------\n",
      "\n"
     ]
    }
   ],
   "source": [
    "# Get the topic distribution for each document\n",
    "topicDistribution = lda.transform(dtm)  # Get topic distribution\n",
    "\n",
    "# Identify documents NOT associated with Topic 2\n",
    "nonTopic2Docs = iDiagFiltered[topicDistribution.argmax(axis=1) != 2]  # Filter out irrelevant topics\n",
    "\n",
    "# Re-create the document-term matrix for the remaining documents\n",
    "dtmRelevant = vectorizer.fit_transform(nonTopic2Docs['ProcessedText'])  # Recreate document-term matrix\n",
    "\n",
    "# Re-run the LDA model on the filtered documents\n",
    "ldaRelevant = LatentDirichletAllocation(n_components=4, random_state=42)  # Initialize new LDA\n",
    "ldaRelevant.fit(dtmRelevant)  # Fit new LDA model\n",
    "\n",
    "# Display the top words per topic in the filtered dataset\n",
    "topicsRelevant = displayTopics(ldaRelevant, vectorizer.get_feature_names_out(), noTopWords)  # Display topics"
   ]
  },
  {
   "cell_type": "code",
   "execution_count": 19,
   "id": "92667894-7338-4330-a7f4-a55bc80a785c",
   "metadata": {},
   "outputs": [
    {
     "name": "stdout",
     "output_type": "stream",
     "text": [
      "\n",
      "Unique ICD-9 Codes for Relevant Topics:\n",
      "['E8213' 'E8214' 'E8215' 'E8216' 'E8217' 'E8218' 'E8219' 'E8220' 'E8221'\n",
      " 'E8222' 'E8223' 'E8224' 'E8225' 'E8226' 'E8227' 'E8228' 'E8229' 'E8230'\n",
      " 'E8231' 'E8232' 'E8233' 'E8234' 'E8235' 'E8236' 'E8237' 'E8238' 'E8239'\n",
      " 'E8240' 'E8241' 'E8242' 'E8243' 'E8244' 'E8245' 'E8259' 'E8260' 'E8261'\n",
      " 'E8262' 'E8263' 'E8264' 'E8268' 'E8269' 'E8270' 'E8272' 'E8273' 'E8274'\n",
      " 'E8278' 'E8279' 'E8280' 'E8284' 'E8290' 'E8294' 'E8298' 'E8299' 'E8252'\n",
      " 'E8253' 'E8254' 'E8255' 'E8256' 'E8257' 'E8258' 'E8850' 'E8852' 'E8860'\n",
      " 'E8869' 'E8000' 'E8001' 'E8002' 'E8003' 'E8008' 'E8009' 'E8010' 'E8011'\n",
      " 'E8117' 'E8118' 'E8119' 'E8120' 'E8121' 'E8122' 'E8123' 'E9290' 'E9585'\n",
      " 'E8041' 'E8042' 'E8043' 'E8051' 'E8052' 'E8053' 'V6511' 'E8323' 'E8124'\n",
      " 'E8012' 'E8013' 'E8018' 'E8019' 'E8020' 'E8021' 'E8022' 'E8023' 'E8028'\n",
      " 'E8029' 'E8031' 'E8032' 'E8033' 'E8125' 'E8126' 'E8127' 'E8128' 'E8129'\n",
      " 'E8130' 'E8131' 'E8132' 'E8133' 'E8134' 'E8135' 'E8136' 'E8137' 'E8138'\n",
      " 'E8139' 'E8140' 'E8141' 'E8142' 'E8143' 'E8144' 'E8145' 'E8146' 'E8147'\n",
      " 'E8148' 'E8149' 'E8150' 'E8151' 'E8152' 'E8153' 'E8154' 'E8155' 'E8156'\n",
      " 'E8157' 'E8158' 'E8159' 'E8160' 'E8161' 'E8162' 'E9685' 'E8061' 'E8062'\n",
      " 'E8063' 'E8071' 'E8072' 'E8073' 'E8100' 'E8101' 'E8102' 'E8103' 'E8104'\n",
      " 'E8105' 'E8106' 'E8107' 'E8108' 'E8109' 'E8110' 'E8111' 'E8112' 'E8113'\n",
      " 'E8114' 'E8115' 'E8116' 'E8246' 'E8247' 'E8248' 'E8249' 'E8250' 'E8251'\n",
      " 'E848' 'E8163' 'E8164' 'E8165' 'E8166' 'E8167' 'E8168' 'E8169' 'E8170'\n",
      " 'E8171' 'E8172' 'E8173' 'E8174' 'E8175' 'E8176' 'E8177' 'E8178' 'E8179'\n",
      " 'E8180' 'E8181' 'E8182' 'E8183' 'E8184' 'E8185' 'E8186' 'E8187' 'E8188'\n",
      " 'E8189' 'E8190' 'E8191' 'E8192' 'E8193' 'E8194' 'E8195' 'E8196' 'E8197'\n",
      " 'E8198' 'E8199' 'E8200' 'E8201' 'E8202' 'E8203' 'E8204' 'E8205' 'E8206'\n",
      " 'E8207' 'E8208' 'E8209' 'E8210' 'E8211' 'E8212' 'E9916' 'E9934' 'E9942']\n",
      "Number of matching observations: 58808\n",
      "   ROW_ID  SUBJECT_ID   HADM_ID   CHARTDATE CHARTTIME STORETIME  \\\n",
      "0     220       66479  134640.0  2148-02-07       NaN       NaN   \n",
      "1      34        7429  127159.0  2126-08-20       NaN       NaN   \n",
      "2     528        2650  188655.0  2132-10-01       NaN       NaN   \n",
      "3     518        2650  188655.0  2132-09-26       NaN       NaN   \n",
      "4     524        2650  188655.0  2132-10-01       NaN       NaN   \n",
      "\n",
      "            CATEGORY DESCRIPTION  CGID  ISERROR  \\\n",
      "0  Discharge summary      Report   NaN      NaN   \n",
      "1  Discharge summary      Report   NaN      NaN   \n",
      "2  Discharge summary      Report   NaN      NaN   \n",
      "3  Discharge summary      Report   NaN      NaN   \n",
      "4  Discharge summary      Report   NaN      NaN   \n",
      "\n",
      "                                                TEXT  \n",
      "0  Admission Date:  [**2148-2-3**]              D...  \n",
      "1  Admission Date: [**2126-7-29**]        Dischar...  \n",
      "2  Admission Date:  [**2132-12-3**]       Dischar...  \n",
      "3  Admission Date:  [**2132-7-9**]       Discharg...  \n",
      "4  Admission Date:  [**2132-7-9**]       Discharg...  \n"
     ]
    }
   ],
   "source": [
    "# Extract ICD9 codes for the remaining relevant topics\n",
    "icd9Relevant = nonTopic2Docs['ICD9_CODE'].unique()  # Extract relevant ICD-9 codes\n",
    "\n",
    "# Print the extracted ICD-9 codes\n",
    "print(\"\\nUnique ICD-9 Codes for Relevant Topics:\")\n",
    "print(icd9Relevant)\n",
    "\n",
    "# Merge DIAGNOSES_ICD with icd9Relevant to get relevant patient and admission IDs\n",
    "relevantPatients = diag[diag['ICD9_CODE'].isin(icd9Relevant)][['SUBJECT_ID', 'HADM_ID']]  # Filter patients\n",
    "\n",
    "# Drop duplicates to ensure we have unique patient and admission IDs\n",
    "relevantPatients = relevantPatients.drop_duplicates()  # Remove duplicates\n",
    "\n",
    "# Merge NOTEEVENTS with relevantPatients to extract matching observations\n",
    "relevantNotes = pd.merge(notes, relevantPatients, on=['SUBJECT_ID', 'HADM_ID'], how='inner')  # Merge notes\n",
    "\n",
    "# Display the relevant observations\n",
    "print(f\"Number of matching observations: {len(relevantNotes)}\")\n",
    "print(relevantNotes.head())  # Show relevant notes"
   ]
  },
  {
   "cell_type": "code",
   "execution_count": 20,
   "id": "09e5c02e-1212-491c-995f-e15ee1c6e858",
   "metadata": {},
   "outputs": [
    {
     "name": "stdout",
     "output_type": "stream",
     "text": [
      "    HADM_ID                                     Relevant_Lines\n",
      "0  134640.0  [Pedestrian struck by motor vehicle, 60 year o...\n",
      "1  127159.0  [involved in a motor vehicle accident. She was...\n",
      "2  188655.0  [post motor vehicle accident on [**2132-7-9**]...\n",
      "3  188655.0  [male who was a restrained passenger in a 110 ...\n",
      "4  188655.0                                               None\n"
     ]
    }
   ],
   "source": [
    "# Step 1: Extract ICD-9 Codes for Relevant Topics\n",
    "icd9Relevant = nonTopic2Docs['ICD9_CODE'].unique()\n",
    "\n",
    "# Step 2: Filter Relevant Patients and Notes\n",
    "relevantPatients = diag[diag['ICD9_CODE'].isin(icd9Relevant)][['SUBJECT_ID', 'HADM_ID']]\n",
    "relevantPatients = relevantPatients.drop_duplicates()\n",
    "\n",
    "relevantNotes = pd.merge(notes, relevantPatients, on=['SUBJECT_ID', 'HADM_ID'], how='inner')\n",
    "\n",
    "# Step 3: Define the regex pattern for the relevant topic (kinetic accidents)\n",
    "vehicle_regex = r'\\b(?:mva|mba|vehicle|bus|pedestrian|passenger|ute|ped|bike|dirtbike|motorbike|pushbike|scooter|truck|bicycle|motorcycle|driver|driving|rtc|rta|\\d*km[a-zA-Z/]*|skateboard|surfing|surf|horse|collision|crossing|buggy|ebike|jetski|vs car|car vs|car accident|moving car|traffic light|traffic lights|hit by car|hit by a car|car hit|airbag|airbags|T boned)\\b'\n",
    "\n",
    "# Step 4: Extract Relevant Lines or Return None\n",
    "def extract_relevant_lines(text, regex_pattern):\n",
    "    lines = text.split('\\n')\n",
    "    matching_lines = [line for line in lines if re.search(regex_pattern, line, re.IGNORECASE)]\n",
    "    return matching_lines if matching_lines else None\n",
    "\n",
    "matched_texts_relevant_lines = relevantNotes['TEXT'].apply(lambda text: extract_relevant_lines(text, vehicle_regex))\n",
    "\n",
    "# Step 5: Combine Relevant Lines with HADM_ID\n",
    "matched_texts_combined = pd.DataFrame({\n",
    "    'HADM_ID': relevantNotes['HADM_ID'],\n",
    "    'Relevant_Lines': matched_texts_relevant_lines\n",
    "})\n",
    "\n",
    "# Display the extracted information\n",
    "print(matched_texts_combined.head())"
   ]
  },
  {
   "cell_type": "code",
   "execution_count": 21,
   "id": "856d8ab4-b5b4-43b4-9c0d-998e6242a2a9",
   "metadata": {},
   "outputs": [
    {
     "name": "stdout",
     "output_type": "stream",
     "text": [
      "    HADM_ID                                     Relevant_Lines\n",
      "0  134640.0  [Pedestrian struck by motor vehicle, 60 year o...\n",
      "1  127159.0  [involved in a motor vehicle accident. She was...\n",
      "2  188655.0  [post motor vehicle accident on [**2132-7-9**]...\n",
      "3  188655.0  [male who was a restrained passenger in a 110 ...\n",
      "5  191263.0  [This is a 47 year old female who was in a mot...\n"
     ]
    },
    {
     "data": {
      "text/html": [
       "<div>\n",
       "<style scoped>\n",
       "    .dataframe tbody tr th:only-of-type {\n",
       "        vertical-align: middle;\n",
       "    }\n",
       "\n",
       "    .dataframe tbody tr th {\n",
       "        vertical-align: top;\n",
       "    }\n",
       "\n",
       "    .dataframe thead th {\n",
       "        text-align: right;\n",
       "    }\n",
       "</style>\n",
       "<table border=\"1\" class=\"dataframe\">\n",
       "  <thead>\n",
       "    <tr style=\"text-align: right;\">\n",
       "      <th></th>\n",
       "      <th>HADM_ID</th>\n",
       "      <th>Relevant_Lines</th>\n",
       "      <th>label</th>\n",
       "    </tr>\n",
       "  </thead>\n",
       "  <tbody>\n",
       "    <tr>\n",
       "      <th>0</th>\n",
       "      <td>134640.0</td>\n",
       "      <td>[Pedestrian struck by motor vehicle, 60 year o...</td>\n",
       "      <td>1.0</td>\n",
       "    </tr>\n",
       "    <tr>\n",
       "      <th>1</th>\n",
       "      <td>127159.0</td>\n",
       "      <td>[involved in a motor vehicle accident. She was...</td>\n",
       "      <td>1.0</td>\n",
       "    </tr>\n",
       "    <tr>\n",
       "      <th>2</th>\n",
       "      <td>188655.0</td>\n",
       "      <td>[post motor vehicle accident on [**2132-7-9**]...</td>\n",
       "      <td>1.0</td>\n",
       "    </tr>\n",
       "    <tr>\n",
       "      <th>3</th>\n",
       "      <td>188655.0</td>\n",
       "      <td>[male who was a restrained passenger in a 110 ...</td>\n",
       "      <td>1.0</td>\n",
       "    </tr>\n",
       "    <tr>\n",
       "      <th>5</th>\n",
       "      <td>191263.0</td>\n",
       "      <td>[This is a 47 year old female who was in a mot...</td>\n",
       "      <td>1.0</td>\n",
       "    </tr>\n",
       "  </tbody>\n",
       "</table>\n",
       "</div>"
      ],
      "text/plain": [
       "    HADM_ID                                     Relevant_Lines  label\n",
       "0  134640.0  [Pedestrian struck by motor vehicle, 60 year o...    1.0\n",
       "1  127159.0  [involved in a motor vehicle accident. She was...    1.0\n",
       "2  188655.0  [post motor vehicle accident on [**2132-7-9**]...    1.0\n",
       "3  188655.0  [male who was a restrained passenger in a 110 ...    1.0\n",
       "5  191263.0  [This is a 47 year old female who was in a mot...    1.0"
      ]
     },
     "execution_count": 21,
     "metadata": {},
     "output_type": "execute_result"
    }
   ],
   "source": [
    "# Filter for rows where Relevant_Lines is not null\n",
    "nnl = matched_texts_combined[matched_texts_combined['Relevant_Lines'].notnull()]\n",
    "\n",
    "# Extract the HADM_ID and the non-null Relevant_Lines\n",
    "nnl = nnl[['HADM_ID', 'Relevant_Lines']]\n",
    "\n",
    "# Display the extracted information\n",
    "print(nnl.head())\n",
    "\n",
    "len(nnl)\n",
    "\n",
    "nnl['label'] = np.ones(len(nnl))\n",
    "nnl.head()"
   ]
  },
  {
   "cell_type": "code",
   "execution_count": 25,
   "id": "7bc7d306-7ea2-4273-a232-cff7e50b13ef",
   "metadata": {},
   "outputs": [
    {
     "name": "stdout",
     "output_type": "stream",
     "text": [
      "9299169     Pneumonia, bacterial, community acquired (CAP)...\n",
      "10461640    Chief Complaint:\\n   24 Hour Events:\\n   Comfo...\n",
      "23852980    Neonatology - NNP Physical Exam\\n\\nPlease see ...\n",
      "3693201     Demographics\\n   Day of intubation:\\n   Day of...\n",
      "3381758     Heart failure, right, isolated (Cor Pulmonale)...\n",
      "Name: TEXT, dtype: object\n",
      "22786\n"
     ]
    }
   ],
   "source": [
    "import pandas as pd\n",
    "\n",
    "# Assuming 'diag' contains the ICD9_CODE information and 'notes' is your NOTEEVENTS DataFrame\n",
    "# Merge notes with diag to ensure ICD9_CODE is in notes\n",
    "notes_with_icd9 = pd.merge(notes, diag[['SUBJECT_ID', 'HADM_ID', 'ICD9_CODE']], on=['SUBJECT_ID', 'HADM_ID'], how='left')\n",
    "\n",
    "# Step 1: Filter NOTEEVENTS to exclude rows where ICD9_CODE matches icd9Relevant\n",
    "non_matching_notes = notes_with_icd9[~notes_with_icd9['ICD9_CODE'].isin(icd9Relevant)]\n",
    "\n",
    "# Step 2: Randomly sample len(nnl) rows from the non-matching notes\n",
    "random_sample = non_matching_notes['TEXT'].sample(n=len(nnl), random_state=42)\n",
    "\n",
    "# Step 3: Display the sampled rows\n",
    "print(random_sample.head())\n",
    "\n",
    "print(len(random_sample))"
   ]
  },
  {
   "cell_type": "code",
   "execution_count": 29,
   "id": "64b6f32e-4b1e-425f-8121-769a208e361a",
   "metadata": {},
   "outputs": [
    {
     "name": "stdout",
     "output_type": "stream",
     "text": [
      "    HADM_ID                                     Relevant_Lines  label\n",
      "0  134640.0  [Pedestrian struck by motor vehicle, 60 year o...      1\n",
      "1  127159.0  [involved in a motor vehicle accident. She was...      1\n",
      "2  188655.0  [post motor vehicle accident on [**2132-7-9**]...      1\n",
      "3  188655.0  [male who was a restrained passenger in a 110 ...      1\n",
      "4  191263.0  [This is a 47 year old female who was in a mot...      1\n"
     ]
    }
   ],
   "source": [
    "# Step 1: Merge 'notes' with 'diag' to ensure 'ICD9_CODE' is included\n",
    "notes_with_icd9 = pd.merge(notes, diag[['SUBJECT_ID', 'HADM_ID', 'ICD9_CODE']], on=['SUBJECT_ID', 'HADM_ID'], how='left')\n",
    "\n",
    "# Step 2: Filter 'NOTEEVENTS' to exclude rows where 'ICD9_CODE' matches 'icd9Relevant'\n",
    "non_matching_notes = notes_with_icd9[~notes_with_icd9['ICD9_CODE'].isin(icd9Relevant)]\n",
    "\n",
    "# Step 3: Randomly sample 'len(nnl)' rows from the non-matching notes\n",
    "random_sample = non_matching_notes[['HADM_ID', 'TEXT']].sample(n=len(nnl), random_state=42)\n",
    "\n",
    "# Step 4: Assign label 0 to the sampled data and rename 'TEXT' to 'Relevant_Lines'\n",
    "random_sample_df = pd.DataFrame({\n",
    "    'HADM_ID': random_sample['HADM_ID'],\n",
    "    'Relevant_Lines': random_sample['TEXT'],\n",
    "    'label': 0\n",
    "})\n",
    "\n",
    "# Step 5: Ensure 'nnl' has label 1\n",
    "nnl['label'] = 1\n",
    "\n",
    "# Step 6: Concatenate 'nnl' with the sampled data\n",
    "combined_df = pd.concat([nnl, random_sample_df], ignore_index=True)\n",
    "\n",
    "# Step 7: Display the first few rows of the combined DataFrame\n",
    "print(combined_df.head())"
   ]
  },
  {
   "cell_type": "code",
   "execution_count": 30,
   "id": "3c166f20-460e-46f0-be26-dd833546d533",
   "metadata": {},
   "outputs": [
    {
     "name": "stdout",
     "output_type": "stream",
     "text": [
      "label\n",
      "1    22786\n",
      "0    22786\n",
      "Name: count, dtype: int64\n"
     ]
    }
   ],
   "source": [
    "print(combined_df['label'].value_counts())"
   ]
  },
  {
   "cell_type": "code",
   "execution_count": 31,
   "id": "7a48dacc-998f-40b1-9c02-786f3366714a",
   "metadata": {},
   "outputs": [
    {
     "name": "stdout",
     "output_type": "stream",
     "text": [
      "combined_df has been saved to 'train.csv'\n"
     ]
    }
   ],
   "source": [
    "# Save the combined DataFrame to a CSV file\n",
    "combined_df.to_csv('train.csv', index=False)\n",
    "\n",
    "# Confirm the save by printing a message\n",
    "print(\"combined_df has been saved to 'train.csv'\")"
   ]
  },
  {
   "cell_type": "code",
   "execution_count": null,
   "id": "14e2a7fa-e119-479a-8113-7696004db62f",
   "metadata": {},
   "outputs": [],
   "source": []
  }
 ],
 "metadata": {
  "kernelspec": {
   "display_name": "Python 3 (ipykernel)",
   "language": "python",
   "name": "python3"
  },
  "language_info": {
   "codemirror_mode": {
    "name": "ipython",
    "version": 3
   },
   "file_extension": ".py",
   "mimetype": "text/x-python",
   "name": "python",
   "nbconvert_exporter": "python",
   "pygments_lexer": "ipython3",
   "version": "3.9.12"
  }
 },
 "nbformat": 4,
 "nbformat_minor": 5
}
